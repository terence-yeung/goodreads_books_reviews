{
 "cells": [
  {
   "cell_type": "markdown",
   "id": "d62f8037-d4e1-45a1-8ebb-49d9f91ef0b2",
   "metadata": {},
   "source": [
    "# Goodreads Books Reviews"
   ]
  },
  {
   "cell_type": "markdown",
   "id": "f9e71925-efd3-4c80-bb12-d09a050611c8",
   "metadata": {},
   "source": [
    "#### Imports"
   ]
  },
  {
   "cell_type": "code",
   "execution_count": 23,
   "id": "994bbe51-85f2-417c-aff6-9417596eca3e",
   "metadata": {},
   "outputs": [],
   "source": [
    "import numpy as np\n",
    "import pandas as pd\n",
    "\n",
    "from transformers import AutoTokenizer, AutoModelForSequenceClassification, DataCollatorWithPadding, TrainingArguments, Trainer\n",
    "from datasets import load_dataset, load_metric\n",
    "from huggingface_hub import notebook_login\n",
    "\n",
    "import torch"
   ]
  },
  {
   "cell_type": "markdown",
   "id": "b1f76a8b-2901-42ff-9752-b37e63be67ee",
   "metadata": {},
   "source": [
    "#### Load Data"
   ]
  },
  {
   "cell_type": "code",
   "execution_count": 24,
   "id": "24f62e10-6e6f-43cc-ae8a-0182c85efd5c",
   "metadata": {},
   "outputs": [
    {
     "name": "stderr",
     "output_type": "stream",
     "text": [
      "Using custom data configuration default-8d12ff12b322328a\n",
      "Reusing dataset csv (C:\\Users\\Terence.Yeung\\.cache\\huggingface\\datasets\\csv\\default-8d12ff12b322328a\\0.0.0\\433e0ccc46f9880962cc2b12065189766fbb2bee57a221866138fb9203c83519)\n"
     ]
    },
    {
     "data": {
      "application/vnd.jupyter.widget-view+json": {
       "model_id": "45fa002711104dbf85b7927b7d8cb77a",
       "version_major": 2,
       "version_minor": 0
      },
      "text/plain": [
       "  0%|          | 0/1 [00:00<?, ?it/s]"
      ]
     },
     "metadata": {},
     "output_type": "display_data"
    },
    {
     "name": "stderr",
     "output_type": "stream",
     "text": [
      "Using custom data configuration default-ef13ee0a229a23e6\n",
      "Reusing dataset csv (C:\\Users\\Terence.Yeung\\.cache\\huggingface\\datasets\\csv\\default-ef13ee0a229a23e6\\0.0.0\\433e0ccc46f9880962cc2b12065189766fbb2bee57a221866138fb9203c83519)\n"
     ]
    },
    {
     "data": {
      "application/vnd.jupyter.widget-view+json": {
       "model_id": "33a26b404d054b89a6aa0108ce2abdb9",
       "version_major": 2,
       "version_minor": 0
      },
      "text/plain": [
       "  0%|          | 0/1 [00:00<?, ?it/s]"
      ]
     },
     "metadata": {},
     "output_type": "display_data"
    }
   ],
   "source": [
    "goodreads_train = load_dataset('csv', data_files='./data/goodreads_train.csv')['train']\n",
    "goodreads_test = load_dataset('csv', data_files='./data/goodreads_test.csv')['train']"
   ]
  },
  {
   "cell_type": "markdown",
   "id": "291f3c42-2422-4a31-8fa7-8c00d7ce0f58",
   "metadata": {},
   "source": [
    "#### Exploratory Data Analysis"
   ]
  },
  {
   "cell_type": "code",
   "execution_count": 25,
   "id": "3c6159e8-aeea-42ef-b1da-738e0031d5ed",
   "metadata": {},
   "outputs": [],
   "source": [
    "# Easier to inspect with pandas\n",
    "\n",
    "goodreads_train_df = goodreads_train.to_pandas()\n",
    "goodreads_test_df = goodreads_test.to_pandas()"
   ]
  },
  {
   "cell_type": "code",
   "execution_count": 26,
   "id": "1b95774a-3aaf-4241-bc6c-c997e37d8bff",
   "metadata": {},
   "outputs": [
    {
     "data": {
      "text/html": [
       "<div>\n",
       "<style scoped>\n",
       "    .dataframe tbody tr th:only-of-type {\n",
       "        vertical-align: middle;\n",
       "    }\n",
       "\n",
       "    .dataframe tbody tr th {\n",
       "        vertical-align: top;\n",
       "    }\n",
       "\n",
       "    .dataframe thead th {\n",
       "        text-align: right;\n",
       "    }\n",
       "</style>\n",
       "<table border=\"1\" class=\"dataframe\">\n",
       "  <thead>\n",
       "    <tr style=\"text-align: right;\">\n",
       "      <th></th>\n",
       "      <th>user_id</th>\n",
       "      <th>book_id</th>\n",
       "      <th>review_id</th>\n",
       "      <th>rating</th>\n",
       "      <th>review_text</th>\n",
       "      <th>date_added</th>\n",
       "      <th>date_updated</th>\n",
       "      <th>read_at</th>\n",
       "      <th>started_at</th>\n",
       "      <th>n_votes</th>\n",
       "      <th>n_comments</th>\n",
       "    </tr>\n",
       "  </thead>\n",
       "  <tbody>\n",
       "    <tr>\n",
       "      <th>0</th>\n",
       "      <td>8842281e1d1347389f2ab93d60773d4d</td>\n",
       "      <td>18245960</td>\n",
       "      <td>dfdbb7b0eb5a7e4c26d59a937e2e5feb</td>\n",
       "      <td>5</td>\n",
       "      <td>This is a special book. It started slow for ab...</td>\n",
       "      <td>Sun Jul 30 07:44:10 -0700 2017</td>\n",
       "      <td>Wed Aug 30 00:00:26 -0700 2017</td>\n",
       "      <td>Sat Aug 26 12:05:52 -0700 2017</td>\n",
       "      <td>Tue Aug 15 13:23:18 -0700 2017</td>\n",
       "      <td>28</td>\n",
       "      <td>1</td>\n",
       "    </tr>\n",
       "    <tr>\n",
       "      <th>1</th>\n",
       "      <td>8842281e1d1347389f2ab93d60773d4d</td>\n",
       "      <td>16981</td>\n",
       "      <td>a5d2c3628987712d0e05c4f90798eb67</td>\n",
       "      <td>3</td>\n",
       "      <td>Recommended by Don Katz. Avail for free in Dec...</td>\n",
       "      <td>Mon Dec 05 10:46:44 -0800 2016</td>\n",
       "      <td>Wed Mar 22 11:37:04 -0700 2017</td>\n",
       "      <td>None</td>\n",
       "      <td>None</td>\n",
       "      <td>1</td>\n",
       "      <td>0</td>\n",
       "    </tr>\n",
       "    <tr>\n",
       "      <th>2</th>\n",
       "      <td>8842281e1d1347389f2ab93d60773d4d</td>\n",
       "      <td>28684704</td>\n",
       "      <td>2ede853b14dc4583f96cf5d120af636f</td>\n",
       "      <td>3</td>\n",
       "      <td>A fun, fast paced science fiction thriller. I ...</td>\n",
       "      <td>Tue Nov 15 11:29:22 -0800 2016</td>\n",
       "      <td>Mon Mar 20 23:40:27 -0700 2017</td>\n",
       "      <td>Sat Mar 18 23:22:42 -0700 2017</td>\n",
       "      <td>Fri Mar 17 23:45:40 -0700 2017</td>\n",
       "      <td>22</td>\n",
       "      <td>0</td>\n",
       "    </tr>\n",
       "    <tr>\n",
       "      <th>3</th>\n",
       "      <td>8842281e1d1347389f2ab93d60773d4d</td>\n",
       "      <td>27161156</td>\n",
       "      <td>ced5675e55cd9d38a524743f5c40996e</td>\n",
       "      <td>0</td>\n",
       "      <td>Recommended reading to understand what is goin...</td>\n",
       "      <td>Wed Nov 09 17:37:04 -0800 2016</td>\n",
       "      <td>Wed Nov 09 17:38:20 -0800 2016</td>\n",
       "      <td>None</td>\n",
       "      <td>None</td>\n",
       "      <td>5</td>\n",
       "      <td>1</td>\n",
       "    </tr>\n",
       "    <tr>\n",
       "      <th>4</th>\n",
       "      <td>8842281e1d1347389f2ab93d60773d4d</td>\n",
       "      <td>25884323</td>\n",
       "      <td>332732725863131279a8e345b63ac33e</td>\n",
       "      <td>4</td>\n",
       "      <td>I really enjoyed this book, and there is a lot...</td>\n",
       "      <td>Mon Apr 25 09:31:23 -0700 2016</td>\n",
       "      <td>Mon Apr 25 09:31:23 -0700 2016</td>\n",
       "      <td>Sun Jun 26 00:00:00 -0700 2016</td>\n",
       "      <td>Sat May 28 00:00:00 -0700 2016</td>\n",
       "      <td>9</td>\n",
       "      <td>1</td>\n",
       "    </tr>\n",
       "  </tbody>\n",
       "</table>\n",
       "</div>"
      ],
      "text/plain": [
       "                            user_id   book_id  \\\n",
       "0  8842281e1d1347389f2ab93d60773d4d  18245960   \n",
       "1  8842281e1d1347389f2ab93d60773d4d     16981   \n",
       "2  8842281e1d1347389f2ab93d60773d4d  28684704   \n",
       "3  8842281e1d1347389f2ab93d60773d4d  27161156   \n",
       "4  8842281e1d1347389f2ab93d60773d4d  25884323   \n",
       "\n",
       "                          review_id  rating  \\\n",
       "0  dfdbb7b0eb5a7e4c26d59a937e2e5feb       5   \n",
       "1  a5d2c3628987712d0e05c4f90798eb67       3   \n",
       "2  2ede853b14dc4583f96cf5d120af636f       3   \n",
       "3  ced5675e55cd9d38a524743f5c40996e       0   \n",
       "4  332732725863131279a8e345b63ac33e       4   \n",
       "\n",
       "                                         review_text  \\\n",
       "0  This is a special book. It started slow for ab...   \n",
       "1  Recommended by Don Katz. Avail for free in Dec...   \n",
       "2  A fun, fast paced science fiction thriller. I ...   \n",
       "3  Recommended reading to understand what is goin...   \n",
       "4  I really enjoyed this book, and there is a lot...   \n",
       "\n",
       "                       date_added                    date_updated  \\\n",
       "0  Sun Jul 30 07:44:10 -0700 2017  Wed Aug 30 00:00:26 -0700 2017   \n",
       "1  Mon Dec 05 10:46:44 -0800 2016  Wed Mar 22 11:37:04 -0700 2017   \n",
       "2  Tue Nov 15 11:29:22 -0800 2016  Mon Mar 20 23:40:27 -0700 2017   \n",
       "3  Wed Nov 09 17:37:04 -0800 2016  Wed Nov 09 17:38:20 -0800 2016   \n",
       "4  Mon Apr 25 09:31:23 -0700 2016  Mon Apr 25 09:31:23 -0700 2016   \n",
       "\n",
       "                          read_at                      started_at  n_votes  \\\n",
       "0  Sat Aug 26 12:05:52 -0700 2017  Tue Aug 15 13:23:18 -0700 2017       28   \n",
       "1                            None                            None        1   \n",
       "2  Sat Mar 18 23:22:42 -0700 2017  Fri Mar 17 23:45:40 -0700 2017       22   \n",
       "3                            None                            None        5   \n",
       "4  Sun Jun 26 00:00:00 -0700 2016  Sat May 28 00:00:00 -0700 2016        9   \n",
       "\n",
       "   n_comments  \n",
       "0           1  \n",
       "1           0  \n",
       "2           0  \n",
       "3           1  \n",
       "4           1  "
      ]
     },
     "execution_count": 26,
     "metadata": {},
     "output_type": "execute_result"
    }
   ],
   "source": [
    "goodreads_train_df.head()"
   ]
  },
  {
   "cell_type": "code",
   "execution_count": 27,
   "id": "40f268e1-a2f3-4f87-b511-2aaf26b96949",
   "metadata": {},
   "outputs": [
    {
     "data": {
      "text/html": [
       "<div>\n",
       "<style scoped>\n",
       "    .dataframe tbody tr th:only-of-type {\n",
       "        vertical-align: middle;\n",
       "    }\n",
       "\n",
       "    .dataframe tbody tr th {\n",
       "        vertical-align: top;\n",
       "    }\n",
       "\n",
       "    .dataframe thead th {\n",
       "        text-align: right;\n",
       "    }\n",
       "</style>\n",
       "<table border=\"1\" class=\"dataframe\">\n",
       "  <thead>\n",
       "    <tr style=\"text-align: right;\">\n",
       "      <th></th>\n",
       "      <th>user_id</th>\n",
       "      <th>book_id</th>\n",
       "      <th>review_id</th>\n",
       "      <th>review_text</th>\n",
       "      <th>date_added</th>\n",
       "      <th>date_updated</th>\n",
       "      <th>read_at</th>\n",
       "      <th>started_at</th>\n",
       "      <th>n_votes</th>\n",
       "      <th>n_comments</th>\n",
       "    </tr>\n",
       "  </thead>\n",
       "  <tbody>\n",
       "    <tr>\n",
       "      <th>0</th>\n",
       "      <td>b9450d1c1f97f891c392b1105959b56e</td>\n",
       "      <td>7092507</td>\n",
       "      <td>5c4df7e70e9b438c761f07a4620ccb7c</td>\n",
       "      <td>** spoiler alert ** \\n This is definitely one ...</td>\n",
       "      <td>Sat Nov 10 06:06:13 -0800 2012</td>\n",
       "      <td>Sun Nov 11 05:38:36 -0800 2012</td>\n",
       "      <td>Sun Nov 11 05:38:36 -0800 2012</td>\n",
       "      <td>Sat Nov 10 00:00:00 -0800 2012</td>\n",
       "      <td>1</td>\n",
       "      <td>0</td>\n",
       "    </tr>\n",
       "    <tr>\n",
       "      <th>1</th>\n",
       "      <td>b9450d1c1f97f891c392b1105959b56e</td>\n",
       "      <td>5576654</td>\n",
       "      <td>8eaeaf13213eeb16ad879a2a2591bbe5</td>\n",
       "      <td>** spoiler alert ** \\n \"You are what you drink...</td>\n",
       "      <td>Fri Nov 09 21:55:16 -0800 2012</td>\n",
       "      <td>Sat Nov 10 05:41:49 -0800 2012</td>\n",
       "      <td>Sat Nov 10 05:41:49 -0800 2012</td>\n",
       "      <td>Fri Nov 09 00:00:00 -0800 2012</td>\n",
       "      <td>1</td>\n",
       "      <td>0</td>\n",
       "    </tr>\n",
       "    <tr>\n",
       "      <th>2</th>\n",
       "      <td>b9450d1c1f97f891c392b1105959b56e</td>\n",
       "      <td>15754052</td>\n",
       "      <td>dce649b733c153ba5363a0413cac988f</td>\n",
       "      <td>Roar is one of my favorite characters in Under...</td>\n",
       "      <td>Fri Nov 09 00:25:50 -0800 2012</td>\n",
       "      <td>Sat Nov 10 06:14:10 -0800 2012</td>\n",
       "      <td>Sat Nov 10 06:14:10 -0800 2012</td>\n",
       "      <td>Fri Nov 09 00:00:00 -0800 2012</td>\n",
       "      <td>0</td>\n",
       "      <td>0</td>\n",
       "    </tr>\n",
       "    <tr>\n",
       "      <th>3</th>\n",
       "      <td>b9450d1c1f97f891c392b1105959b56e</td>\n",
       "      <td>17020</td>\n",
       "      <td>8a46df0bb997269d6834f9437a4b0a77</td>\n",
       "      <td>** spoiler alert ** \\n If you feel like travel...</td>\n",
       "      <td>Thu Nov 01 00:28:39 -0700 2012</td>\n",
       "      <td>Sat Nov 03 11:35:22 -0700 2012</td>\n",
       "      <td>Sat Nov 03 11:35:22 -0700 2012</td>\n",
       "      <td>Thu Nov 01 00:00:00 -0700 2012</td>\n",
       "      <td>0</td>\n",
       "      <td>0</td>\n",
       "    </tr>\n",
       "    <tr>\n",
       "      <th>4</th>\n",
       "      <td>b9450d1c1f97f891c392b1105959b56e</td>\n",
       "      <td>12551082</td>\n",
       "      <td>d11d3091e22f1cf3cb865598de197599</td>\n",
       "      <td>3.5 stars \\n I read and enjoyed the first two ...</td>\n",
       "      <td>Thu Oct 18 00:57:00 -0700 2012</td>\n",
       "      <td>Mon Apr 01 23:00:51 -0700 2013</td>\n",
       "      <td>Sat Mar 30 00:00:00 -0700 2013</td>\n",
       "      <td>Fri Mar 29 00:00:00 -0700 2013</td>\n",
       "      <td>0</td>\n",
       "      <td>0</td>\n",
       "    </tr>\n",
       "  </tbody>\n",
       "</table>\n",
       "</div>"
      ],
      "text/plain": [
       "                            user_id   book_id  \\\n",
       "0  b9450d1c1f97f891c392b1105959b56e   7092507   \n",
       "1  b9450d1c1f97f891c392b1105959b56e   5576654   \n",
       "2  b9450d1c1f97f891c392b1105959b56e  15754052   \n",
       "3  b9450d1c1f97f891c392b1105959b56e     17020   \n",
       "4  b9450d1c1f97f891c392b1105959b56e  12551082   \n",
       "\n",
       "                          review_id  \\\n",
       "0  5c4df7e70e9b438c761f07a4620ccb7c   \n",
       "1  8eaeaf13213eeb16ad879a2a2591bbe5   \n",
       "2  dce649b733c153ba5363a0413cac988f   \n",
       "3  8a46df0bb997269d6834f9437a4b0a77   \n",
       "4  d11d3091e22f1cf3cb865598de197599   \n",
       "\n",
       "                                         review_text  \\\n",
       "0  ** spoiler alert ** \\n This is definitely one ...   \n",
       "1  ** spoiler alert ** \\n \"You are what you drink...   \n",
       "2  Roar is one of my favorite characters in Under...   \n",
       "3  ** spoiler alert ** \\n If you feel like travel...   \n",
       "4  3.5 stars \\n I read and enjoyed the first two ...   \n",
       "\n",
       "                       date_added                    date_updated  \\\n",
       "0  Sat Nov 10 06:06:13 -0800 2012  Sun Nov 11 05:38:36 -0800 2012   \n",
       "1  Fri Nov 09 21:55:16 -0800 2012  Sat Nov 10 05:41:49 -0800 2012   \n",
       "2  Fri Nov 09 00:25:50 -0800 2012  Sat Nov 10 06:14:10 -0800 2012   \n",
       "3  Thu Nov 01 00:28:39 -0700 2012  Sat Nov 03 11:35:22 -0700 2012   \n",
       "4  Thu Oct 18 00:57:00 -0700 2012  Mon Apr 01 23:00:51 -0700 2013   \n",
       "\n",
       "                          read_at                      started_at  n_votes  \\\n",
       "0  Sun Nov 11 05:38:36 -0800 2012  Sat Nov 10 00:00:00 -0800 2012        1   \n",
       "1  Sat Nov 10 05:41:49 -0800 2012  Fri Nov 09 00:00:00 -0800 2012        1   \n",
       "2  Sat Nov 10 06:14:10 -0800 2012  Fri Nov 09 00:00:00 -0800 2012        0   \n",
       "3  Sat Nov 03 11:35:22 -0700 2012  Thu Nov 01 00:00:00 -0700 2012        0   \n",
       "4  Sat Mar 30 00:00:00 -0700 2013  Fri Mar 29 00:00:00 -0700 2013        0   \n",
       "\n",
       "   n_comments  \n",
       "0           0  \n",
       "1           0  \n",
       "2           0  \n",
       "3           0  \n",
       "4           0  "
      ]
     },
     "execution_count": 27,
     "metadata": {},
     "output_type": "execute_result"
    }
   ],
   "source": [
    "goodreads_test_df.head()"
   ]
  },
  {
   "cell_type": "code",
   "execution_count": 28,
   "id": "c4626d4e-e7cc-4829-84c3-10e329f3ef6d",
   "metadata": {},
   "outputs": [
    {
     "data": {
      "text/plain": [
       "0     30988\n",
       "1     28718\n",
       "2     72627\n",
       "3    188972\n",
       "4    313688\n",
       "5    265007\n",
       "Name: rating, dtype: int64"
      ]
     },
     "execution_count": 28,
     "metadata": {},
     "output_type": "execute_result"
    }
   ],
   "source": [
    "goodreads_train_df['rating'].value_counts().sort_index()"
   ]
  },
  {
   "cell_type": "code",
   "execution_count": null,
   "id": "bcd6bdc5-72a4-4e15-8560-89eb5824cda3",
   "metadata": {},
   "outputs": [],
   "source": []
  },
  {
   "cell_type": "code",
   "execution_count": null,
   "id": "de800c9f-ed9f-4c21-bb9a-2982a4b9a5bf",
   "metadata": {},
   "outputs": [],
   "source": []
  },
  {
   "cell_type": "code",
   "execution_count": null,
   "id": "227ceeb5-a9d6-41d9-bcdd-9550b55fc628",
   "metadata": {},
   "outputs": [],
   "source": []
  },
  {
   "cell_type": "code",
   "execution_count": null,
   "id": "85f48aa7-b7b0-40c1-8ca5-8c63b1dc7d70",
   "metadata": {},
   "outputs": [],
   "source": []
  },
  {
   "cell_type": "markdown",
   "id": "18de38d0-5145-44b8-ad20-7950d7c3bd6d",
   "metadata": {
    "tags": []
   },
   "source": [
    "#### Preprocessing"
   ]
  },
  {
   "cell_type": "code",
   "execution_count": 29,
   "id": "fa631ef4-f472-4864-bc9e-7df403419b85",
   "metadata": {},
   "outputs": [],
   "source": [
    "# Dropping all columns except review_text and rating\n",
    "\n",
    "dropped_columns = ['user_id', 'book_id', 'review_id', 'date_added', 'date_updated', 'read_at', 'started_at', 'n_votes', 'n_comments']\n",
    "\n",
    "goodreads_train = goodreads_train.remove_columns(dropped_columns)\n",
    "goodreads_test = goodreads_test.remove_columns(dropped_columns)\n",
    "\n",
    "# Renaming text and label columns\n",
    "\n",
    "goodreads_train = goodreads_train.rename_column('review_text', 'text')\n",
    "goodreads_train = goodreads_train.rename_column('rating', 'label')\n",
    "goodreads_test = goodreads_test.rename_column('review_text', 'text')"
   ]
  },
  {
   "cell_type": "code",
   "execution_count": 30,
   "id": "3f32c70b-ae27-4321-8317-44dc38960ebd",
   "metadata": {},
   "outputs": [
    {
     "data": {
      "text/plain": [
       "Dataset({\n",
       "    features: ['label', 'text'],\n",
       "    num_rows: 900000\n",
       "})"
      ]
     },
     "execution_count": 30,
     "metadata": {},
     "output_type": "execute_result"
    }
   ],
   "source": [
    "goodreads_train"
   ]
  },
  {
   "cell_type": "code",
   "execution_count": 31,
   "id": "cf86b438-36df-4d8b-bc30-ccb8a161a41d",
   "metadata": {},
   "outputs": [
    {
     "data": {
      "text/plain": [
       "Dataset({\n",
       "    features: ['text'],\n",
       "    num_rows: 478033\n",
       "})"
      ]
     },
     "execution_count": 31,
     "metadata": {},
     "output_type": "execute_result"
    }
   ],
   "source": [
    "goodreads_test"
   ]
  },
  {
   "cell_type": "code",
   "execution_count": 32,
   "id": "e30c0e3e-dce2-4132-b6f3-8e30e08adddb",
   "metadata": {},
   "outputs": [],
   "source": [
    "# Splitting training data into a training and validation set as test dataset provided is not labelled\n",
    "\n",
    "goodreads_train_split = goodreads_train.train_test_split(test_size=0.2)"
   ]
  },
  {
   "cell_type": "code",
   "execution_count": 33,
   "id": "e8d7f5a3-f5b8-4240-b75d-b04792775e2e",
   "metadata": {},
   "outputs": [
    {
     "data": {
      "text/plain": [
       "DatasetDict({\n",
       "    train: Dataset({\n",
       "        features: ['label', 'text'],\n",
       "        num_rows: 720000\n",
       "    })\n",
       "    test: Dataset({\n",
       "        features: ['label', 'text'],\n",
       "        num_rows: 180000\n",
       "    })\n",
       "})"
      ]
     },
     "execution_count": 33,
     "metadata": {},
     "output_type": "execute_result"
    }
   ],
   "source": [
    "goodreads_train_split"
   ]
  },
  {
   "cell_type": "code",
   "execution_count": 34,
   "id": "ece5c6cc-f119-4431-8d23-f4b3b5dec47a",
   "metadata": {},
   "outputs": [],
   "source": [
    "# Taking only a small sample of the training data due to computational limitations\n",
    "\n",
    "def reduce_dataset(dataset):\n",
    "    total_rows = dataset.num_rows\n",
    "    sample_size = int(total_rows * 0.001)\n",
    "    sample_indices = np.random.RandomState(42).randint(total_rows, size=sample_size)\n",
    "    return dataset.select(sample_indices)\n",
    "\n",
    "train_data = reduce_dataset(goodreads_train_split['train'])\n",
    "test_data = reduce_dataset(goodreads_train_split['test'])"
   ]
  },
  {
   "cell_type": "code",
   "execution_count": 35,
   "id": "86103491-b2cb-4a49-952a-b81863778498",
   "metadata": {},
   "outputs": [
    {
     "data": {
      "text/plain": [
       "Dataset({\n",
       "    features: ['label', 'text'],\n",
       "    num_rows: 720\n",
       "})"
      ]
     },
     "execution_count": 35,
     "metadata": {},
     "output_type": "execute_result"
    }
   ],
   "source": [
    "train_data"
   ]
  },
  {
   "cell_type": "code",
   "execution_count": 36,
   "id": "082df6aa-9641-426a-832b-a267608522d0",
   "metadata": {},
   "outputs": [
    {
     "data": {
      "text/plain": [
       "Dataset({\n",
       "    features: ['label', 'text'],\n",
       "    num_rows: 180\n",
       "})"
      ]
     },
     "execution_count": 36,
     "metadata": {},
     "output_type": "execute_result"
    }
   ],
   "source": [
    "test_data"
   ]
  },
  {
   "cell_type": "code",
   "execution_count": 37,
   "id": "ddc8ccf7-11f2-4089-ae6d-7b448b7f65c2",
   "metadata": {},
   "outputs": [
    {
     "data": {
      "application/vnd.jupyter.widget-view+json": {
       "model_id": "9f0eaf15c11a4c3ba71f9dac133bb377",
       "version_major": 2,
       "version_minor": 0
      },
      "text/plain": [
       "Stringifying the column:   0%|          | 0/1 [00:00<?, ?ba/s]"
      ]
     },
     "metadata": {},
     "output_type": "display_data"
    },
    {
     "data": {
      "application/vnd.jupyter.widget-view+json": {
       "model_id": "703f65670dfc465ea36b3181baa92f94",
       "version_major": 2,
       "version_minor": 0
      },
      "text/plain": [
       "Casting to class labels:   0%|          | 0/1 [00:00<?, ?ba/s]"
      ]
     },
     "metadata": {},
     "output_type": "display_data"
    },
    {
     "data": {
      "application/vnd.jupyter.widget-view+json": {
       "model_id": "0aa0779cd7764093bf2c513cc213d246",
       "version_major": 2,
       "version_minor": 0
      },
      "text/plain": [
       "Casting the dataset:   0%|          | 0/1 [00:00<?, ?ba/s]"
      ]
     },
     "metadata": {},
     "output_type": "display_data"
    }
   ],
   "source": [
    "# Labels need to be encoded to ClassLabel type for custom datasets\n",
    "\n",
    "train_data = train_data.class_encode_column('label')"
   ]
  },
  {
   "cell_type": "code",
   "execution_count": 38,
   "id": "86945a92-946e-4bf2-a93b-32f74b8712ba",
   "metadata": {},
   "outputs": [
    {
     "data": {
      "text/plain": [
       "{'label': ClassLabel(num_classes=6, names=['0', '1', '2', '3', '4', '5'], id=None),\n",
       " 'text': Value(dtype='string', id=None)}"
      ]
     },
     "execution_count": 38,
     "metadata": {},
     "output_type": "execute_result"
    }
   ],
   "source": [
    "train_data.features"
   ]
  },
  {
   "cell_type": "code",
   "execution_count": 39,
   "id": "a0d3e9e0-84b3-4700-9351-82c0843935a7",
   "metadata": {},
   "outputs": [
    {
     "data": {
      "application/vnd.jupyter.widget-view+json": {
       "model_id": "b0c804919d9c46758510bb97de37e168",
       "version_major": 2,
       "version_minor": 0
      },
      "text/plain": [
       "Stringifying the column:   0%|          | 0/1 [00:00<?, ?ba/s]"
      ]
     },
     "metadata": {},
     "output_type": "display_data"
    },
    {
     "data": {
      "application/vnd.jupyter.widget-view+json": {
       "model_id": "5a1621cae0f343098d274f1d3e65261d",
       "version_major": 2,
       "version_minor": 0
      },
      "text/plain": [
       "Casting to class labels:   0%|          | 0/1 [00:00<?, ?ba/s]"
      ]
     },
     "metadata": {},
     "output_type": "display_data"
    },
    {
     "data": {
      "application/vnd.jupyter.widget-view+json": {
       "model_id": "6e77990c1897454193567e6f0ce9bec6",
       "version_major": 2,
       "version_minor": 0
      },
      "text/plain": [
       "Casting the dataset:   0%|          | 0/1 [00:00<?, ?ba/s]"
      ]
     },
     "metadata": {},
     "output_type": "display_data"
    }
   ],
   "source": [
    "test_data = test_data.class_encode_column('label')"
   ]
  },
  {
   "cell_type": "code",
   "execution_count": 40,
   "id": "4e5522b7-074d-4055-8b85-0f997a4ee5e8",
   "metadata": {},
   "outputs": [
    {
     "data": {
      "text/plain": [
       "{'label': ClassLabel(num_classes=6, names=['0', '1', '2', '3', '4', '5'], id=None),\n",
       " 'text': Value(dtype='string', id=None)}"
      ]
     },
     "execution_count": 40,
     "metadata": {},
     "output_type": "execute_result"
    }
   ],
   "source": [
    "test_data.features"
   ]
  },
  {
   "cell_type": "code",
   "execution_count": 45,
   "id": "b9a002ac-5920-4239-bd8e-65daee389abf",
   "metadata": {},
   "outputs": [
    {
     "data": {
      "application/vnd.jupyter.widget-view+json": {
       "model_id": "d8e311a5769844fb9508aa2afa0e7e48",
       "version_major": 2,
       "version_minor": 0
      },
      "text/plain": [
       "Downloading:   0%|          | 0.00/28.0 [00:00<?, ?B/s]"
      ]
     },
     "metadata": {},
     "output_type": "display_data"
    },
    {
     "data": {
      "application/vnd.jupyter.widget-view+json": {
       "model_id": "63938385ee494503a834f71e20b570f5",
       "version_major": 2,
       "version_minor": 0
      },
      "text/plain": [
       "Downloading:   0%|          | 0.00/570 [00:00<?, ?B/s]"
      ]
     },
     "metadata": {},
     "output_type": "display_data"
    },
    {
     "data": {
      "application/vnd.jupyter.widget-view+json": {
       "model_id": "40d584f4dc6a49bc8ec7fd5976f4c8a9",
       "version_major": 2,
       "version_minor": 0
      },
      "text/plain": [
       "Downloading:   0%|          | 0.00/226k [00:00<?, ?B/s]"
      ]
     },
     "metadata": {},
     "output_type": "display_data"
    },
    {
     "data": {
      "application/vnd.jupyter.widget-view+json": {
       "model_id": "d5be0b4c870943d5939dc795ad7856ba",
       "version_major": 2,
       "version_minor": 0
      },
      "text/plain": [
       "Downloading:   0%|          | 0.00/455k [00:00<?, ?B/s]"
      ]
     },
     "metadata": {},
     "output_type": "display_data"
    },
    {
     "data": {
      "application/vnd.jupyter.widget-view+json": {
       "model_id": "a753b99c3e5e40cd804c3d9a1db17c13",
       "version_major": 2,
       "version_minor": 0
      },
      "text/plain": [
       "  0%|          | 0/1 [00:00<?, ?ba/s]"
      ]
     },
     "metadata": {},
     "output_type": "display_data"
    },
    {
     "data": {
      "application/vnd.jupyter.widget-view+json": {
       "model_id": "5f95da2f29ec4ec682c14ea2585e73b9",
       "version_major": 2,
       "version_minor": 0
      },
      "text/plain": [
       "  0%|          | 0/1 [00:00<?, ?ba/s]"
      ]
     },
     "metadata": {},
     "output_type": "display_data"
    }
   ],
   "source": [
    "# Tokenizing review text\n",
    "\n",
    "tokenizer = AutoTokenizer.from_pretrained('bert-base-uncased')\n",
    "\n",
    "def tokenize_text(data):\n",
    "    return tokenizer(data['text'], truncation=True)\n",
    " \n",
    "tokenized_train = train_data.map(tokenize_text, batched=True)\n",
    "tokenized_test = test_data.map(tokenize_text, batched=True)"
   ]
  },
  {
   "cell_type": "code",
   "execution_count": 46,
   "id": "983e0c25-d220-41a9-ab10-3969419794c7",
   "metadata": {},
   "outputs": [],
   "source": [
    "# Convert training samples to PyTorch tensors and concatenate them with the correct amount of padding to speed up training\n",
    "\n",
    "data_collator = DataCollatorWithPadding(tokenizer=tokenizer, padding='max_length', return_tensors='pt')"
   ]
  },
  {
   "cell_type": "code",
   "execution_count": 47,
   "id": "e954d8c8-8d8f-48ff-b1dd-bcf7359d2ca0",
   "metadata": {},
   "outputs": [
    {
     "data": {
      "text/plain": [
       "Dataset({\n",
       "    features: ['label', 'text', 'input_ids', 'token_type_ids', 'attention_mask'],\n",
       "    num_rows: 720\n",
       "})"
      ]
     },
     "execution_count": 47,
     "metadata": {},
     "output_type": "execute_result"
    }
   ],
   "source": [
    "tokenized_train"
   ]
  },
  {
   "cell_type": "code",
   "execution_count": null,
   "id": "ffa6abdf-a374-427f-8d6b-1a002d68a350",
   "metadata": {},
   "outputs": [],
   "source": []
  },
  {
   "cell_type": "markdown",
   "id": "fe378add-65e0-41e6-b6e5-69fedbdebee9",
   "metadata": {},
   "source": [
    "#### Model Building"
   ]
  },
  {
   "cell_type": "code",
   "execution_count": 48,
   "id": "608a5c11-619f-46f3-9236-8678d0658a04",
   "metadata": {},
   "outputs": [
    {
     "data": {
      "application/vnd.jupyter.widget-view+json": {
       "model_id": "a0dba447365f4ad7871f0cac8f963d62",
       "version_major": 2,
       "version_minor": 0
      },
      "text/plain": [
       "Downloading:   0%|          | 0.00/420M [00:00<?, ?B/s]"
      ]
     },
     "metadata": {},
     "output_type": "display_data"
    },
    {
     "name": "stderr",
     "output_type": "stream",
     "text": [
      "Some weights of the model checkpoint at bert-base-uncased were not used when initializing BertForSequenceClassification: ['cls.predictions.transform.dense.bias', 'cls.seq_relationship.weight', 'cls.predictions.decoder.weight', 'cls.predictions.transform.LayerNorm.weight', 'cls.seq_relationship.bias', 'cls.predictions.transform.dense.weight', 'cls.predictions.bias', 'cls.predictions.transform.LayerNorm.bias']\n",
      "- This IS expected if you are initializing BertForSequenceClassification from the checkpoint of a model trained on another task or with another architecture (e.g. initializing a BertForSequenceClassification model from a BertForPreTraining model).\n",
      "- This IS NOT expected if you are initializing BertForSequenceClassification from the checkpoint of a model that you expect to be exactly identical (initializing a BertForSequenceClassification model from a BertForSequenceClassification model).\n",
      "Some weights of BertForSequenceClassification were not initialized from the model checkpoint at bert-base-uncased and are newly initialized: ['classifier.bias', 'classifier.weight']\n",
      "You should probably TRAIN this model on a down-stream task to be able to use it for predictions and inference.\n"
     ]
    }
   ],
   "source": [
    "model = AutoModelForSequenceClassification.from_pretrained('bert-base-uncased', num_labels=6)"
   ]
  },
  {
   "cell_type": "code",
   "execution_count": 49,
   "id": "93ff32f7-9d74-4b6e-9fb8-9785eb1bb7a3",
   "metadata": {},
   "outputs": [],
   "source": [
    "# Defining metrics\n",
    "\n",
    "def compute_metrics(eval_pred):\n",
    "    load_accuracy = load_metric('accuracy')\n",
    "    load_precision = load_metric('precision')\n",
    "    load_recall = load_metric('recall')\n",
    "    load_f1 = load_metric('f1')\n",
    "  \n",
    "    logits, labels = eval_pred\n",
    "    predictions = np.argmax(logits, axis=-1)\n",
    "    \n",
    "    accuracy = load_accuracy.compute(predictions=predictions, references=labels)['accuracy']\n",
    "    precision = load_precision.compute(predictions=predictions, references=labels)['precision']\n",
    "    recall = load_recall.compute(predictions=predictions, references=labels)['recall']\n",
    "    f1 = load_f1.compute(predictions=predictions, references=labels)[\"f1\"]\n",
    "    \n",
    "    return {'accuracy': accuracy, 'precision': precision, 'recall': recall, 'f1': f1}"
   ]
  },
  {
   "cell_type": "markdown",
   "id": "0827405e-d0de-486c-9bd9-07ae9daac4e2",
   "metadata": {},
   "source": [
    "#### Model Training"
   ]
  },
  {
   "cell_type": "code",
   "execution_count": 50,
   "id": "4449d5b7-4cc4-4970-ab20-43e55daa344f",
   "metadata": {},
   "outputs": [],
   "source": [
    "# Training hyperparameters\n",
    "\n",
    "training_args = TrainingArguments(\n",
    "    output_dir='test_trainer',\n",
    "    learning_rate=2e-5,\n",
    "    per_device_train_batch_size=16,\n",
    "    per_device_eval_batch_size=16,\n",
    "    num_train_epochs=5,\n",
    "    weight_decay=0.01,\n",
    "    evaluation_strategy='epoch',\n",
    "    save_strategy='epoch',\n",
    ")"
   ]
  },
  {
   "cell_type": "code",
   "execution_count": 51,
   "id": "7babc088-2bb8-4639-9bae-394206c3e77c",
   "metadata": {},
   "outputs": [],
   "source": [
    "trainer = Trainer(\n",
    "   model=model,\n",
    "   args=training_args,\n",
    "   train_dataset=tokenized_train,\n",
    "   eval_dataset=tokenized_test,\n",
    "   tokenizer=tokenizer,\n",
    "   data_collator=data_collator,\n",
    "   compute_metrics=compute_metrics,\n",
    ")"
   ]
  },
  {
   "cell_type": "code",
   "execution_count": null,
   "id": "440e540e-083e-4fdd-ab34-03e9def2cf55",
   "metadata": {},
   "outputs": [
    {
     "name": "stderr",
     "output_type": "stream",
     "text": [
      "The following columns in the training set  don't have a corresponding argument in `DistilBertForSequenceClassification.forward` and have been ignored: text. If text are not expected by `DistilBertForSequenceClassification.forward`,  you can safely ignore this message.\n",
      "C:\\Users\\Terence.Yeung\\Anaconda3\\envs\\arup_nlp_prog\\lib\\site-packages\\transformers\\optimization.py:306: FutureWarning: This implementation of AdamW is deprecated and will be removed in a future version. Use the PyTorch implementation torch.optim.AdamW instead, or set `no_deprecation_warning=True` to disable this warning\n",
      "  warnings.warn(\n",
      "***** Running training *****\n",
      "  Num examples = 720\n",
      "  Num Epochs = 5\n",
      "  Instantaneous batch size per device = 16\n",
      "  Total train batch size (w. parallel, distributed & accumulation) = 16\n",
      "  Gradient Accumulation steps = 1\n",
      "  Total optimization steps = 225\n"
     ]
    },
    {
     "data": {
      "text/html": [
       "\n",
       "    <div>\n",
       "      \n",
       "      <progress value='5' max='225' style='width:300px; height:20px; vertical-align: middle;'></progress>\n",
       "      [  5/225 00:45 < 55:33, 0.07 it/s, Epoch 0.09/5]\n",
       "    </div>\n",
       "    <table border=\"1\" class=\"dataframe\">\n",
       "  <thead>\n",
       " <tr style=\"text-align: left;\">\n",
       "      <th>Epoch</th>\n",
       "      <th>Training Loss</th>\n",
       "      <th>Validation Loss</th>\n",
       "    </tr>\n",
       "  </thead>\n",
       "  <tbody>\n",
       "  </tbody>\n",
       "</table><p>"
      ],
      "text/plain": [
       "<IPython.core.display.HTML object>"
      ]
     },
     "metadata": {},
     "output_type": "display_data"
    }
   ],
   "source": [
    "trainer.train()"
   ]
  },
  {
   "cell_type": "code",
   "execution_count": null,
   "id": "bd713cd0-bc69-4a62-88fb-92c1688e74c1",
   "metadata": {},
   "outputs": [],
   "source": [
    "trainer.train_dataset[0]"
   ]
  },
  {
   "cell_type": "code",
   "execution_count": null,
   "id": "fd4c6c00-1016-4de4-9644-83278c53e438",
   "metadata": {},
   "outputs": [],
   "source": []
  }
 ],
 "metadata": {
  "kernelspec": {
   "display_name": "Python [conda env:arup_nlp_prog]",
   "language": "python",
   "name": "conda-env-arup_nlp_prog-py"
  },
  "language_info": {
   "codemirror_mode": {
    "name": "ipython",
    "version": 3
   },
   "file_extension": ".py",
   "mimetype": "text/x-python",
   "name": "python",
   "nbconvert_exporter": "python",
   "pygments_lexer": "ipython3",
   "version": "3.9.12"
  }
 },
 "nbformat": 4,
 "nbformat_minor": 5
}
