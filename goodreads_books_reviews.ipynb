{
 "cells": [
  {
   "cell_type": "markdown",
   "id": "d62f8037-d4e1-45a1-8ebb-49d9f91ef0b2",
   "metadata": {},
   "source": [
    "# Goodreads Books Reviews"
   ]
  },
  {
   "cell_type": "code",
   "execution_count": null,
   "id": "994bbe51-85f2-417c-aff6-9417596eca3e",
   "metadata": {},
   "outputs": [],
   "source": []
  }
 ],
 "metadata": {
  "kernelspec": {
   "display_name": "Python [conda env:arup_nlp_prog]",
   "language": "python",
   "name": "conda-env-arup_nlp_prog-py"
  },
  "language_info": {
   "codemirror_mode": {
    "name": "ipython",
    "version": 3
   },
   "file_extension": ".py",
   "mimetype": "text/x-python",
   "name": "python",
   "nbconvert_exporter": "python",
   "pygments_lexer": "ipython3",
   "version": "3.9.7"
  }
 },
 "nbformat": 4,
 "nbformat_minor": 5
}
